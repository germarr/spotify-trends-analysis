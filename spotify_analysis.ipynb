{
 "cells": [
  {
   "cell_type": "markdown",
   "metadata": {},
   "source": [
    "# Spotify Data Analysis\n",
    "---"
   ]
  },
  {
   "cell_type": "markdown",
   "metadata": {},
   "source": [
    "## 1. Required Libraries\n",
    "---"
   ]
  },
  {
   "cell_type": "code",
   "execution_count": 2,
   "metadata": {},
   "outputs": [],
   "source": [
    "import requests\n",
    "import base64\n",
    "import datetime\n",
    "from urllib.parse import urlencode"
   ]
  },
  {
   "cell_type": "code",
   "execution_count": 3,
   "metadata": {},
   "outputs": [],
   "source": [
    "from IPython.display import Image\n",
    "from IPython.core.display import HTML "
   ]
  },
  {
   "cell_type": "markdown",
   "metadata": {},
   "source": [
    "## 2. Helper Functions\n",
    "---"
   ]
  },
  {
   "cell_type": "code",
   "execution_count": 4,
   "metadata": {},
   "outputs": [],
   "source": [
    "%load_ext autoreload\n",
    "%autoreload 2\n",
    "import helper_functions as hf"
   ]
  },
  {
   "cell_type": "markdown",
   "metadata": {},
   "source": [
    "### 2.1 Description\n",
    "---"
   ]
  },
  {
   "cell_type": "markdown",
   "metadata": {},
   "source": [
    "* `auth()`:\n",
    "* `search_spotify()`: The parameters that these functions accept are\n",
    "* `get_artist_id()`:\n",
    "* `get_albums()`:\n",
    "* `get_tracks()`:\n",
    "* `all_artists_songs()`:\n",
    "* `all_songs()`:"
   ]
  },
  {
   "cell_type": "markdown",
   "metadata": {},
   "source": [
    "## 3. Set-Up\n",
    "---"
   ]
  },
  {
   "cell_type": "markdown",
   "metadata": {},
   "source": [
    "### 3.1 Access Token\n",
    "---\n",
    "Depending on the level of access you want, there are several ways of interacting with the Spotify API.\n",
    "For my personal workflow I created a function called `auth()`. This function handles all the steps that needed to be fullfilled to get the access token. When called, the function will ask for a `Client_ID` and a `Client_Secret`. You can learn how to get those access in this [**article**](https://developer.spotify.com/documentation/general/guides/app-settings/).\n",
    "\n",
    "\n",
    "<ins>**Notes:**</ins>\n",
    "* [**Here**](https://developer.spotify.com/documentation/general/guides/authorization-guide/#client-credentials-flow) you can find the article in which Spotify explains how the `access token` works. In addition, it also mentions different workflows that can be followed in order to get the token. "
   ]
  },
  {
   "cell_type": "code",
   "execution_count": 5,
   "metadata": {},
   "outputs": [
    {
     "name": "stdin",
     "output_type": "stream",
     "text": [
      "Client_ID:  6d9cda272a144d6988f08949e9f4cad9\n",
      "Client_Secret:  28eb8fce5c3448acae7406415e84d1d9\n"
     ]
    }
   ],
   "source": [
    "access_token = hf.auth()"
   ]
  },
  {
   "cell_type": "markdown",
   "metadata": {},
   "source": [
    "## 4. Getting Data From Spotify\n",
    "---\n",
    "[**Reference Link**](https://developer.spotify.com/documentation/web-api/reference/) to make the API calls"
   ]
  },
  {
   "cell_type": "markdown",
   "metadata": {},
   "source": [
    "### 4.1 `Search` function.\n",
    "---\n",
    "There´s a function inside the `helper_functions` library called `search_spotify`. The purpose of this function is to do searches using the Spotify API and get a JSON file in return with the inforamtion that was requested. \n",
    "Using this function, we can search information about albums, artists, playlists, tracks, shows and episodes.\n",
    "\n",
    "This function accepts 3 parameters:\n",
    "* `access_token`: The json response we get after running the `hf.auth()`´function.\n",
    "* `query`: The term we want to look for.\n",
    "* `search_type`: Add the string 'albums', 'artists', 'playlists', 'tracks', 'shows' or 'episodes' depending on what result you're looking to get.\n",
    "\n",
    "<ins>**Notes:**</ins>\n",
    "* Click [**here**](https://developer.spotify.com/documentation/web-api/reference/#category-search) to learn more about the \"Search\" module of the Spotify API.\n",
    "* If you want to test the \"Search\" API call in a Spotify Console click [**here**](https://developer.spotify.com/console/get-search-item/)."
   ]
  },
  {
   "cell_type": "code",
   "execution_count": 6,
   "metadata": {},
   "outputs": [
    {
     "data": {
      "text/html": [
       "<img src=\"https://i.scdn.co/image/ab67616d00001e0277fdcfda6535601aff081b6a\" width=\"200\" height=\"200\"/>"
      ],
      "text/plain": [
       "<IPython.core.display.Image object>"
      ]
     },
     "execution_count": 6,
     "metadata": {},
     "output_type": "execute_result"
    }
   ],
   "source": [
    "# Search_Type Options: album , artist, playlist, track, show and episode\n",
    "albums = hf.search_spotify(access_token, query=\"Fine Line\", search_type='album')\n",
    "album_cover = albums[\"albums\"][\"items\"][0][\"images\"][1][\"url\"]\n",
    "album_id = albums[\"albums\"][\"items\"][0][\"id\"]\n",
    "Image(url= f\"{album_cover}\", width=200, height=200)"
   ]
  },
  {
   "cell_type": "markdown",
   "metadata": {},
   "source": [
    "### 4.2 `Albums` Function\n",
    "---\n",
    "There´s a function inside the `helper_functions` library called `get_tracks`. The purpose of this function is to get all the tracks from an album in a pandas dataframe.\n",
    "\n",
    "You can select to use one of the next 2 parameters:\n",
    "* `lookup_id`: If you have the `artist_id` you can put it here.\n",
    "* `artist`: Name of the artist from which you want to get all their albums. \n",
    "\n",
    "<ins>**Notes:**</ins>\n",
    "* Click [**here**](https://developer.spotify.com/documentation/web-api/reference/#category-albums) to learn more about the \"Tracks\" module on the Spotify API.\n",
    "* If you want to test the \"Tracks\" API call in a Spotify Console click [**here**](https://developer.spotify.com/console/albums/)."
   ]
  },
  {
   "cell_type": "code",
   "execution_count": 7,
   "metadata": {},
   "outputs": [
    {
     "ename": "AttributeError",
     "evalue": "module 'helper_functions' has no attribute 'get_albums'",
     "output_type": "error",
     "traceback": [
      "\u001b[1;31m---------------------------------------------------------------------------\u001b[0m",
      "\u001b[1;31mAttributeError\u001b[0m                            Traceback (most recent call last)",
      "\u001b[1;32m<ipython-input-7-1522f42f75ce>\u001b[0m in \u001b[0;36m<module>\u001b[1;34m\u001b[0m\n\u001b[1;32m----> 1\u001b[1;33m \u001b[0mall_albums\u001b[0m\u001b[1;33m=\u001b[0m \u001b[0mhf\u001b[0m\u001b[1;33m.\u001b[0m\u001b[0mget_albums\u001b[0m\u001b[1;33m(\u001b[0m\u001b[0maccess_token\u001b[0m\u001b[1;33m=\u001b[0m\u001b[0maccess_token\u001b[0m\u001b[1;33m,\u001b[0m\u001b[0mlookup_id\u001b[0m\u001b[1;33m=\u001b[0m\u001b[1;34m\"66CXWjxzNUsdJxJ2JdwvnR\"\u001b[0m\u001b[1;33m,\u001b[0m \u001b[0martist\u001b[0m\u001b[1;33m=\u001b[0m\u001b[1;32mNone\u001b[0m\u001b[1;33m)\u001b[0m\u001b[1;33m\u001b[0m\u001b[1;33m\u001b[0m\u001b[0m\n\u001b[0m\u001b[0;32m      2\u001b[0m \u001b[0malbums_list\u001b[0m \u001b[1;33m=\u001b[0m \u001b[0mall_albums\u001b[0m\u001b[1;33m[\u001b[0m\u001b[1;34m\"album_id\"\u001b[0m\u001b[1;33m]\u001b[0m\u001b[1;33m.\u001b[0m\u001b[0mtolist\u001b[0m\u001b[1;33m(\u001b[0m\u001b[1;33m)\u001b[0m\u001b[1;33m\u001b[0m\u001b[1;33m\u001b[0m\u001b[0m\n\u001b[0;32m      3\u001b[0m \u001b[0mall_albums\u001b[0m\u001b[1;33m.\u001b[0m\u001b[0mhead\u001b[0m\u001b[1;33m(\u001b[0m\u001b[1;33m)\u001b[0m\u001b[1;33m\u001b[0m\u001b[1;33m\u001b[0m\u001b[0m\n",
      "\u001b[1;31mAttributeError\u001b[0m: module 'helper_functions' has no attribute 'get_albums'"
     ]
    }
   ],
   "source": [
    "all_albums= hf.get_albums(access_token=access_token,lookup_id=\"66CXWjxzNUsdJxJ2JdwvnR\", artist=None)\n",
    "albums_list = all_albums[\"album_id\"].tolist()\n",
    "all_albums.head()"
   ]
  },
  {
   "cell_type": "markdown",
   "metadata": {},
   "source": [
    "### 4.3 `Tracks` function.\n",
    "---\n",
    "There´s a function inside the `helper_functions` library called `get_tracks`. The purpose of this function is to get all the tracks from an album in a pandas dataframe.\n",
    "\n",
    "This function accepts 2 parameters:\n",
    "* `access_token`: The json response we get after running the `hf.auth()`´function.\n",
    "* `album_ids`: The id of a single album. \n",
    "\n",
    "<ins>**Notes:**</ins>\n",
    "* Click [**here**](https://developer.spotify.com/documentation/web-api/reference/#category-tracks) to learn more about the \"Tracks\" module on the Spotify API.\n",
    "* If you want to test the \"Tracks\" API call in a Spotify Console click [**here**](https://developer.spotify.com/console/get-several-tracks/)."
   ]
  },
  {
   "cell_type": "code",
   "execution_count": 82,
   "metadata": {},
   "outputs": [
    {
     "data": {
      "text/html": [
       "<div>\n",
       "<style scoped>\n",
       "    .dataframe tbody tr th:only-of-type {\n",
       "        vertical-align: middle;\n",
       "    }\n",
       "\n",
       "    .dataframe tbody tr th {\n",
       "        vertical-align: top;\n",
       "    }\n",
       "\n",
       "    .dataframe thead th {\n",
       "        text-align: right;\n",
       "    }\n",
       "</style>\n",
       "<table border=\"1\" class=\"dataframe\">\n",
       "  <thead>\n",
       "    <tr style=\"text-align: right;\">\n",
       "      <th></th>\n",
       "      <th>track_number</th>\n",
       "      <th>name_of_the_song</th>\n",
       "      <th>duration</th>\n",
       "      <th>explicit</th>\n",
       "      <th>track_id</th>\n",
       "      <th>link</th>\n",
       "      <th>preview</th>\n",
       "      <th>album_id</th>\n",
       "    </tr>\n",
       "  </thead>\n",
       "  <tbody>\n",
       "    <tr>\n",
       "      <th>0</th>\n",
       "      <td>1</td>\n",
       "      <td>Yellow Submarine</td>\n",
       "      <td>159160</td>\n",
       "      <td>False</td>\n",
       "      <td>1tdltVUBkiBCW1C3yB4zyD</td>\n",
       "      <td>https://open.spotify.com/track/1tdltVUBkiBCW1C...</td>\n",
       "      <td>None</td>\n",
       "      <td>0XRZpF083HqgygM0v1hQyE</td>\n",
       "    </tr>\n",
       "    <tr>\n",
       "      <th>1</th>\n",
       "      <td>2</td>\n",
       "      <td>Hey Bulldog</td>\n",
       "      <td>191840</td>\n",
       "      <td>False</td>\n",
       "      <td>4epbwW20tHuF9Q6FufAn7Y</td>\n",
       "      <td>https://open.spotify.com/track/4epbwW20tHuF9Q6...</td>\n",
       "      <td>None</td>\n",
       "      <td>0XRZpF083HqgygM0v1hQyE</td>\n",
       "    </tr>\n",
       "    <tr>\n",
       "      <th>2</th>\n",
       "      <td>3</td>\n",
       "      <td>Eleanor Rigby</td>\n",
       "      <td>125226</td>\n",
       "      <td>False</td>\n",
       "      <td>6EOKwO6WaLal58MSsi6U4W</td>\n",
       "      <td>https://open.spotify.com/track/6EOKwO6WaLal58M...</td>\n",
       "      <td>None</td>\n",
       "      <td>0XRZpF083HqgygM0v1hQyE</td>\n",
       "    </tr>\n",
       "    <tr>\n",
       "      <th>3</th>\n",
       "      <td>4</td>\n",
       "      <td>Love You To</td>\n",
       "      <td>178706</td>\n",
       "      <td>False</td>\n",
       "      <td>69c15XPo8sYUqmnngPtFWj</td>\n",
       "      <td>https://open.spotify.com/track/69c15XPo8sYUqmn...</td>\n",
       "      <td>None</td>\n",
       "      <td>0XRZpF083HqgygM0v1hQyE</td>\n",
       "    </tr>\n",
       "    <tr>\n",
       "      <th>4</th>\n",
       "      <td>5</td>\n",
       "      <td>All Together Now</td>\n",
       "      <td>130626</td>\n",
       "      <td>False</td>\n",
       "      <td>4KELrBm2uoyn9tq6fZ5P98</td>\n",
       "      <td>https://open.spotify.com/track/4KELrBm2uoyn9tq...</td>\n",
       "      <td>None</td>\n",
       "      <td>0XRZpF083HqgygM0v1hQyE</td>\n",
       "    </tr>\n",
       "  </tbody>\n",
       "</table>\n",
       "</div>"
      ],
      "text/plain": [
       "   track_number  name_of_the_song  duration  explicit                track_id  \\\n",
       "0             1  Yellow Submarine    159160     False  1tdltVUBkiBCW1C3yB4zyD   \n",
       "1             2       Hey Bulldog    191840     False  4epbwW20tHuF9Q6FufAn7Y   \n",
       "2             3     Eleanor Rigby    125226     False  6EOKwO6WaLal58MSsi6U4W   \n",
       "3             4       Love You To    178706     False  69c15XPo8sYUqmnngPtFWj   \n",
       "4             5  All Together Now    130626     False  4KELrBm2uoyn9tq6fZ5P98   \n",
       "\n",
       "                                                link preview  \\\n",
       "0  https://open.spotify.com/track/1tdltVUBkiBCW1C...    None   \n",
       "1  https://open.spotify.com/track/4epbwW20tHuF9Q6...    None   \n",
       "2  https://open.spotify.com/track/6EOKwO6WaLal58M...    None   \n",
       "3  https://open.spotify.com/track/69c15XPo8sYUqmn...    None   \n",
       "4  https://open.spotify.com/track/4KELrBm2uoyn9tq...    None   \n",
       "\n",
       "                 album_id  \n",
       "0  0XRZpF083HqgygM0v1hQyE  \n",
       "1  0XRZpF083HqgygM0v1hQyE  \n",
       "2  0XRZpF083HqgygM0v1hQyE  \n",
       "3  0XRZpF083HqgygM0v1hQyE  \n",
       "4  0XRZpF083HqgygM0v1hQyE  "
      ]
     },
     "execution_count": 82,
     "metadata": {},
     "output_type": "execute_result"
    }
   ],
   "source": [
    "songs_from_album = hf.get_tracks(access_token=access_token, album_ids=album_id)\n",
    "songs_from_album.head()"
   ]
  },
  {
   "cell_type": "markdown",
   "metadata": {},
   "source": [
    "### 4.4 Get all the `Tracks` from a single Artist.\n",
    "---\n",
    "There´s a method inside the `helper_functions` library called `all_artists_songs()`. The purpose of this method is to get all the tracks from an artist and return them in a pandas dataframe.\n",
    "\n",
    "This function accepts 2 parameters:\n",
    "* `at`: The json response we get after running the hf.auth() function.\n",
    "* `albums_of_artist`: A list wich contains all the albums from a single artist. \n",
    "\n",
    "<ins>**Notes:**</ins>\n",
    "* To get a list with all the albums from a single artist, I recommend to use the `get_albums()` method from the `helper_functions` library. Here's an example:  \n",
    "\n",
    "```python\n",
    "all_albums= hf.get_albums(access_token=access_token,lookup_id=\"66CXWjxzNUsdJxJ2JdwvnR\", artist=None)\n",
    "albums_list = all_albums[\"album_id\"].tolist()\n",
    "```"
   ]
  },
  {
   "cell_type": "code",
   "execution_count": 81,
   "metadata": {},
   "outputs": [
    {
     "data": {
      "text/html": [
       "<div>\n",
       "<style scoped>\n",
       "    .dataframe tbody tr th:only-of-type {\n",
       "        vertical-align: middle;\n",
       "    }\n",
       "\n",
       "    .dataframe tbody tr th {\n",
       "        vertical-align: top;\n",
       "    }\n",
       "\n",
       "    .dataframe thead th {\n",
       "        text-align: right;\n",
       "    }\n",
       "</style>\n",
       "<table border=\"1\" class=\"dataframe\">\n",
       "  <thead>\n",
       "    <tr style=\"text-align: right;\">\n",
       "      <th></th>\n",
       "      <th>track_number</th>\n",
       "      <th>name_of_the_song</th>\n",
       "      <th>duration</th>\n",
       "      <th>explicit</th>\n",
       "      <th>track_id</th>\n",
       "      <th>link</th>\n",
       "      <th>preview</th>\n",
       "      <th>album_id</th>\n",
       "    </tr>\n",
       "  </thead>\n",
       "  <tbody>\n",
       "    <tr>\n",
       "      <th>0</th>\n",
       "      <td>1</td>\n",
       "      <td>34+35 Remix (feat. Doja Cat, Megan Thee Stalli...</td>\n",
       "      <td>182437</td>\n",
       "      <td>False</td>\n",
       "      <td>5UqWGhPB6CS0iwSikmtPEJ</td>\n",
       "      <td>https://open.spotify.com/track/5UqWGhPB6CS0iwS...</td>\n",
       "      <td>None</td>\n",
       "      <td>4utF15fvKK0vAaFVGTGXF6</td>\n",
       "    </tr>\n",
       "    <tr>\n",
       "      <th>0</th>\n",
       "      <td>1</td>\n",
       "      <td>34+35 Remix (feat. Doja Cat, Megan Thee Stalli...</td>\n",
       "      <td>182437</td>\n",
       "      <td>True</td>\n",
       "      <td>3jjBPF4NDMCU51psU8JPpR</td>\n",
       "      <td>https://open.spotify.com/track/3jjBPF4NDMCU51p...</td>\n",
       "      <td>None</td>\n",
       "      <td>11X2d5C6rFBFZZUOCJLPt9</td>\n",
       "    </tr>\n",
       "    <tr>\n",
       "      <th>0</th>\n",
       "      <td>1</td>\n",
       "      <td>shut up</td>\n",
       "      <td>157710</td>\n",
       "      <td>True</td>\n",
       "      <td>3ko9jEHNt4O5fjKN65ULJp</td>\n",
       "      <td>https://open.spotify.com/track/3ko9jEHNt4O5fjK...</td>\n",
       "      <td>None</td>\n",
       "      <td>3euz4vS7ezKGnNSwgyvKcd</td>\n",
       "    </tr>\n",
       "    <tr>\n",
       "      <th>1</th>\n",
       "      <td>2</td>\n",
       "      <td>34+35</td>\n",
       "      <td>173710</td>\n",
       "      <td>True</td>\n",
       "      <td>6Im9k8u9iIzKMrmV7BWtlF</td>\n",
       "      <td>https://open.spotify.com/track/6Im9k8u9iIzKMrm...</td>\n",
       "      <td>None</td>\n",
       "      <td>3euz4vS7ezKGnNSwgyvKcd</td>\n",
       "    </tr>\n",
       "    <tr>\n",
       "      <th>2</th>\n",
       "      <td>3</td>\n",
       "      <td>motive (with Doja Cat)</td>\n",
       "      <td>167989</td>\n",
       "      <td>True</td>\n",
       "      <td>5GkQIP5mWPi4KZLLXeuFTT</td>\n",
       "      <td>https://open.spotify.com/track/5GkQIP5mWPi4KZL...</td>\n",
       "      <td>None</td>\n",
       "      <td>3euz4vS7ezKGnNSwgyvKcd</td>\n",
       "    </tr>\n",
       "    <tr>\n",
       "      <th>...</th>\n",
       "      <td>...</td>\n",
       "      <td>...</td>\n",
       "      <td>...</td>\n",
       "      <td>...</td>\n",
       "      <td>...</td>\n",
       "      <td>...</td>\n",
       "      <td>...</td>\n",
       "      <td>...</td>\n",
       "    </tr>\n",
       "    <tr>\n",
       "      <th>7</th>\n",
       "      <td>8</td>\n",
       "      <td>The Way</td>\n",
       "      <td>227026</td>\n",
       "      <td>False</td>\n",
       "      <td>06EL94D0TA27Ik0Ke5usbj</td>\n",
       "      <td>https://open.spotify.com/track/06EL94D0TA27Ik0...</td>\n",
       "      <td>None</td>\n",
       "      <td>5xSvNPstcxHtR4ap2vvN8A</td>\n",
       "    </tr>\n",
       "    <tr>\n",
       "      <th>8</th>\n",
       "      <td>9</td>\n",
       "      <td>You’ll Never Know</td>\n",
       "      <td>214280</td>\n",
       "      <td>False</td>\n",
       "      <td>4PqIj0WOfPAq4QAvisjgpd</td>\n",
       "      <td>https://open.spotify.com/track/4PqIj0WOfPAq4QA...</td>\n",
       "      <td>None</td>\n",
       "      <td>5xSvNPstcxHtR4ap2vvN8A</td>\n",
       "    </tr>\n",
       "    <tr>\n",
       "      <th>9</th>\n",
       "      <td>10</td>\n",
       "      <td>Almost Is Never Enough</td>\n",
       "      <td>327773</td>\n",
       "      <td>False</td>\n",
       "      <td>63bo7NDoWdMFXufhsYOxwG</td>\n",
       "      <td>https://open.spotify.com/track/63bo7NDoWdMFXuf...</td>\n",
       "      <td>None</td>\n",
       "      <td>5xSvNPstcxHtR4ap2vvN8A</td>\n",
       "    </tr>\n",
       "    <tr>\n",
       "      <th>10</th>\n",
       "      <td>11</td>\n",
       "      <td>Popular Song</td>\n",
       "      <td>200213</td>\n",
       "      <td>False</td>\n",
       "      <td>3iugMJEdfE58OpI7WGM38w</td>\n",
       "      <td>https://open.spotify.com/track/3iugMJEdfE58OpI...</td>\n",
       "      <td>None</td>\n",
       "      <td>5xSvNPstcxHtR4ap2vvN8A</td>\n",
       "    </tr>\n",
       "    <tr>\n",
       "      <th>11</th>\n",
       "      <td>12</td>\n",
       "      <td>Better Left Unsaid</td>\n",
       "      <td>211226</td>\n",
       "      <td>False</td>\n",
       "      <td>5Pnny78GESkBSLnxFmhRYZ</td>\n",
       "      <td>https://open.spotify.com/track/5Pnny78GESkBSLn...</td>\n",
       "      <td>None</td>\n",
       "      <td>5xSvNPstcxHtR4ap2vvN8A</td>\n",
       "    </tr>\n",
       "  </tbody>\n",
       "</table>\n",
       "<p>201 rows × 8 columns</p>\n",
       "</div>"
      ],
      "text/plain": [
       "    track_number                                   name_of_the_song  duration  \\\n",
       "0              1  34+35 Remix (feat. Doja Cat, Megan Thee Stalli...    182437   \n",
       "0              1  34+35 Remix (feat. Doja Cat, Megan Thee Stalli...    182437   \n",
       "0              1                                            shut up    157710   \n",
       "1              2                                              34+35    173710   \n",
       "2              3                             motive (with Doja Cat)    167989   \n",
       "..           ...                                                ...       ...   \n",
       "7              8                                            The Way    227026   \n",
       "8              9                                  You’ll Never Know    214280   \n",
       "9             10                             Almost Is Never Enough    327773   \n",
       "10            11                                       Popular Song    200213   \n",
       "11            12                                 Better Left Unsaid    211226   \n",
       "\n",
       "    explicit                track_id  \\\n",
       "0      False  5UqWGhPB6CS0iwSikmtPEJ   \n",
       "0       True  3jjBPF4NDMCU51psU8JPpR   \n",
       "0       True  3ko9jEHNt4O5fjKN65ULJp   \n",
       "1       True  6Im9k8u9iIzKMrmV7BWtlF   \n",
       "2       True  5GkQIP5mWPi4KZLLXeuFTT   \n",
       "..       ...                     ...   \n",
       "7      False  06EL94D0TA27Ik0Ke5usbj   \n",
       "8      False  4PqIj0WOfPAq4QAvisjgpd   \n",
       "9      False  63bo7NDoWdMFXufhsYOxwG   \n",
       "10     False  3iugMJEdfE58OpI7WGM38w   \n",
       "11     False  5Pnny78GESkBSLnxFmhRYZ   \n",
       "\n",
       "                                                 link preview  \\\n",
       "0   https://open.spotify.com/track/5UqWGhPB6CS0iwS...    None   \n",
       "0   https://open.spotify.com/track/3jjBPF4NDMCU51p...    None   \n",
       "0   https://open.spotify.com/track/3ko9jEHNt4O5fjK...    None   \n",
       "1   https://open.spotify.com/track/6Im9k8u9iIzKMrm...    None   \n",
       "2   https://open.spotify.com/track/5GkQIP5mWPi4KZL...    None   \n",
       "..                                                ...     ...   \n",
       "7   https://open.spotify.com/track/06EL94D0TA27Ik0...    None   \n",
       "8   https://open.spotify.com/track/4PqIj0WOfPAq4QA...    None   \n",
       "9   https://open.spotify.com/track/63bo7NDoWdMFXuf...    None   \n",
       "10  https://open.spotify.com/track/3iugMJEdfE58OpI...    None   \n",
       "11  https://open.spotify.com/track/5Pnny78GESkBSLn...    None   \n",
       "\n",
       "                  album_id  \n",
       "0   4utF15fvKK0vAaFVGTGXF6  \n",
       "0   11X2d5C6rFBFZZUOCJLPt9  \n",
       "0   3euz4vS7ezKGnNSwgyvKcd  \n",
       "1   3euz4vS7ezKGnNSwgyvKcd  \n",
       "2   3euz4vS7ezKGnNSwgyvKcd  \n",
       "..                     ...  \n",
       "7   5xSvNPstcxHtR4ap2vvN8A  \n",
       "8   5xSvNPstcxHtR4ap2vvN8A  \n",
       "9   5xSvNPstcxHtR4ap2vvN8A  \n",
       "10  5xSvNPstcxHtR4ap2vvN8A  \n",
       "11  5xSvNPstcxHtR4ap2vvN8A  \n",
       "\n",
       "[201 rows x 8 columns]"
      ]
     },
     "execution_count": 81,
     "metadata": {},
     "output_type": "execute_result"
    }
   ],
   "source": [
    "albums_list = all_albums[\"album_id\"].tolist()\n",
    "hf.all_artists_songs(at=access_token, albums_of_artist=albums_list)"
   ]
  },
  {
   "cell_type": "code",
   "execution_count": null,
   "metadata": {},
   "outputs": [],
   "source": []
  }
 ],
 "metadata": {
  "kernelspec": {
   "display_name": "Python 3",
   "language": "python",
   "name": "python3"
  },
  "language_info": {
   "codemirror_mode": {
    "name": "ipython",
    "version": 3
   },
   "file_extension": ".py",
   "mimetype": "text/x-python",
   "name": "python",
   "nbconvert_exporter": "python",
   "pygments_lexer": "ipython3",
   "version": "3.7.6"
  }
 },
 "nbformat": 4,
 "nbformat_minor": 4
}
